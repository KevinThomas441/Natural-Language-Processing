{
  "nbformat": 4,
  "nbformat_minor": 0,
  "metadata": {
    "kernelspec": {
      "display_name": "Python 3",
      "language": "python",
      "name": "python3"
    },
    "language_info": {
      "codemirror_mode": {
        "name": "ipython",
        "version": 3
      },
      "file_extension": ".py",
      "mimetype": "text/x-python",
      "name": "python",
      "nbconvert_exporter": "python",
      "pygments_lexer": "ipython3",
      "version": "3.7.1"
    },
    "colab": {
      "name": "Kevin_Thomas_ICA_10.ipynb",
      "provenance": [],
      "collapsed_sections": []
    }
  },
  "cells": [
    {
      "cell_type": "markdown",
      "metadata": {
        "id": "-umlPDe1r9sW",
        "colab_type": "text"
      },
      "source": [
        "<H1>INSTRUCTIONS</H1>"
      ]
    },
    {
      "cell_type": "markdown",
      "metadata": {
        "id": "LNhFcA52r9sa",
        "colab_type": "text"
      },
      "source": [
        "In this ICA, you will build various text classification models and use them to classify sentences from 2016 presidential debates according to speaker.\n",
        "\n",
        "The ICA zip file contains three files train, dev and test. The files are one document per line, tokenized and lowercased, so you don't have to do any preprocessing. Each line has the format: \n",
        "\n",
        "      \n",
        "   <font color=\"red\"> <center>trump i fully understand .</center></font>\n",
        "\n",
        "where the first token is the speaker's name, and the remaining tokens are the words of the document.\n"
      ]
    },
    {
      "cell_type": "markdown",
      "metadata": {
        "id": "A3Ndnqdir9sb",
        "colab_type": "text"
      },
      "source": [
        "<H2>Hands on programming with Text Classification</H2> "
      ]
    },
    {
      "cell_type": "markdown",
      "metadata": {
        "id": "7NQYC-P7r9sc",
        "colab_type": "text"
      },
      "source": [
        "Naive Bayes Classifier with 51.5% accuracy is provided.\n",
        "Experiment with two new kinds of features.\n",
        "<ol type=\"a\">\n",
        "<li>Extend the code provided to construct a bag of words to include an additional kind of feature besides words. You can try bigrams, prefixes, parts of speech, anything you like. Describe your new features. Report your new accuracy. Briefly write down your conclusions from this experiment.<b>(5 points)</b></li>\n",
        "    <li>Do the same thing for another kind of feature. Report your new accuracy. Briefly write down your conclusions from this experiment.<b>(5 points)</b></li>\n",
        "</ol>"
      ]
    },
    {
      "cell_type": "code",
      "metadata": {
        "id": "Kd5a3dowr9sc",
        "colab_type": "code",
        "colab": {}
      },
      "source": [
        "import pandas as pd\n",
        "import numpy as np"
      ],
      "execution_count": 0,
      "outputs": []
    },
    {
      "cell_type": "code",
      "metadata": {
        "id": "o3bwtWB8r9sh",
        "colab_type": "code",
        "colab": {}
      },
      "source": [
        "##Load Training Data\n",
        "train_x=[]\n",
        "train_y=[]"
      ],
      "execution_count": 0,
      "outputs": []
    },
    {
      "cell_type": "code",
      "metadata": {
        "id": "NIQYZQofr9sj",
        "colab_type": "code",
        "colab": {}
      },
      "source": [
        "with open('data/train.txt', 'r') as f:\n",
        "   for line in f:\n",
        "        temp=line.split(' ',1)\n",
        "        train_x.append(temp[1])\n",
        "        train_y.append(temp[0])\n",
        "       "
      ],
      "execution_count": 0,
      "outputs": []
    },
    {
      "cell_type": "code",
      "metadata": {
        "id": "SKiXLC6Wr9sl",
        "colab_type": "code",
        "outputId": "cbf54588-8f8e-4b34-9c16-466ad27bc05c",
        "colab": {
          "base_uri": "https://localhost:8080/",
          "height": 69
        }
      },
      "source": [
        "np.unique(train_y)"
      ],
      "execution_count": 4,
      "outputs": [
        {
          "output_type": "execute_result",
          "data": {
            "text/plain": [
              "array(['bush', 'carson', 'chafee', 'christie', 'clinton', 'cruz',\n",
              "       'fiorina', 'huckabee', 'kasich', \"o'malley\", 'paul', 'perry',\n",
              "       'rubio', 'sanders', 'trump', 'walker', 'webb'], dtype='<U8')"
            ]
          },
          "metadata": {
            "tags": []
          },
          "execution_count": 4
        }
      ]
    },
    {
      "cell_type": "code",
      "metadata": {
        "id": "cRRDBL_Or9so",
        "colab_type": "code",
        "outputId": "b9a55ff2-10f4-4725-f65c-26d43a478f39",
        "colab": {
          "base_uri": "https://localhost:8080/",
          "height": 34
        }
      },
      "source": [
        "len(np.unique(train_y))"
      ],
      "execution_count": 5,
      "outputs": [
        {
          "output_type": "execute_result",
          "data": {
            "text/plain": [
              "17"
            ]
          },
          "metadata": {
            "tags": []
          },
          "execution_count": 5
        }
      ]
    },
    {
      "cell_type": "code",
      "metadata": {
        "id": "hmyGMfgqr9sr",
        "colab_type": "code",
        "outputId": "4851ef31-70c0-4a61-e30d-1dc722b175e2",
        "colab": {
          "base_uri": "https://localhost:8080/",
          "height": 198
        }
      },
      "source": [
        "train_df = pd.DataFrame({'sentence':train_x, 'speaker':train_y})\n",
        "train_df.head()"
      ],
      "execution_count": 6,
      "outputs": [
        {
          "output_type": "execute_result",
          "data": {
            "text/html": [
              "<div>\n",
              "<style scoped>\n",
              "    .dataframe tbody tr th:only-of-type {\n",
              "        vertical-align: middle;\n",
              "    }\n",
              "\n",
              "    .dataframe tbody tr th {\n",
              "        vertical-align: top;\n",
              "    }\n",
              "\n",
              "    .dataframe thead th {\n",
              "        text-align: right;\n",
              "    }\n",
              "</style>\n",
              "<table border=\"1\" class=\"dataframe\">\n",
              "  <thead>\n",
              "    <tr style=\"text-align: right;\">\n",
              "      <th></th>\n",
              "      <th>sentence</th>\n",
              "      <th>speaker</th>\n",
              "    </tr>\n",
              "  </thead>\n",
              "  <tbody>\n",
              "    <tr>\n",
              "      <th>0</th>\n",
              "      <td>no . i am very proud to be jewish , and being ...</td>\n",
              "      <td>sanders</td>\n",
              "    </tr>\n",
              "    <tr>\n",
              "      <th>1</th>\n",
              "      <td>well , that just wasn't that just wasn't the f...</td>\n",
              "      <td>clinton</td>\n",
              "    </tr>\n",
              "    <tr>\n",
              "      <th>2</th>\n",
              "      <td>thank you , anderson . thank you , cnn . and t...</td>\n",
              "      <td>chafee</td>\n",
              "    </tr>\n",
              "    <tr>\n",
              "      <th>3</th>\n",
              "      <td>. . . let us talk about issues . \\n</td>\n",
              "      <td>sanders</td>\n",
              "    </tr>\n",
              "    <tr>\n",
              "      <th>4</th>\n",
              "      <td>thank you , bernie . thank you . \\n</td>\n",
              "      <td>clinton</td>\n",
              "    </tr>\n",
              "  </tbody>\n",
              "</table>\n",
              "</div>"
            ],
            "text/plain": [
              "                                            sentence  speaker\n",
              "0  no . i am very proud to be jewish , and being ...  sanders\n",
              "1  well , that just wasn't that just wasn't the f...  clinton\n",
              "2  thank you , anderson . thank you , cnn . and t...   chafee\n",
              "3                . . . let us talk about issues . \\n  sanders\n",
              "4                thank you , bernie . thank you . \\n  clinton"
            ]
          },
          "metadata": {
            "tags": []
          },
          "execution_count": 6
        }
      ]
    },
    {
      "cell_type": "code",
      "metadata": {
        "id": "1pwhcDnor9st",
        "colab_type": "code",
        "colab": {}
      },
      "source": [
        "##Load test data\n",
        "test_x=[]\n",
        "test_y=[]"
      ],
      "execution_count": 0,
      "outputs": []
    },
    {
      "cell_type": "code",
      "metadata": {
        "id": "ySCgZZLYr9sv",
        "colab_type": "code",
        "colab": {}
      },
      "source": [
        "with open('data/test.txt', 'r') as f:\n",
        "   for line in f:\n",
        "        temp=line.split(' ',1)\n",
        "        test_x.append(temp[1])\n",
        "        test_y.append(temp[0])"
      ],
      "execution_count": 0,
      "outputs": []
    },
    {
      "cell_type": "code",
      "metadata": {
        "id": "Q2uui6Dor9sx",
        "colab_type": "code",
        "outputId": "83419908-1322-410d-a861-f95f9ce53423",
        "colab": {
          "base_uri": "https://localhost:8080/",
          "height": 198
        }
      },
      "source": [
        "test_df = pd.DataFrame({'sentence':test_x, 'speaker':test_y})\n",
        "test_df.head()"
      ],
      "execution_count": 9,
      "outputs": [
        {
          "output_type": "execute_result",
          "data": {
            "text/html": [
              "<div>\n",
              "<style scoped>\n",
              "    .dataframe tbody tr th:only-of-type {\n",
              "        vertical-align: middle;\n",
              "    }\n",
              "\n",
              "    .dataframe tbody tr th {\n",
              "        vertical-align: top;\n",
              "    }\n",
              "\n",
              "    .dataframe thead th {\n",
              "        text-align: right;\n",
              "    }\n",
              "</style>\n",
              "<table border=\"1\" class=\"dataframe\">\n",
              "  <thead>\n",
              "    <tr style=\"text-align: right;\">\n",
              "      <th></th>\n",
              "      <th>sentence</th>\n",
              "      <th>speaker</th>\n",
              "    </tr>\n",
              "  </thead>\n",
              "  <tbody>\n",
              "    <tr>\n",
              "      <th>0</th>\n",
              "      <td>madam secretary , when he asked me to speak . ...</td>\n",
              "      <td>sanders</td>\n",
              "    </tr>\n",
              "    <tr>\n",
              "      <th>1</th>\n",
              "      <td>too many lives have been destroyed because peo...</td>\n",
              "      <td>sanders</td>\n",
              "    </tr>\n",
              "    <tr>\n",
              "      <th>2</th>\n",
              "      <td>. . . well and i . . . \\n</td>\n",
              "      <td>sanders</td>\n",
              "    </tr>\n",
              "    <tr>\n",
              "      <th>3</th>\n",
              "      <td>look , the secretary is right . this is a terr...</td>\n",
              "      <td>sanders</td>\n",
              "    </tr>\n",
              "    <tr>\n",
              "      <th>4</th>\n",
              "      <td>well , hillary clinton , and everybody else wh...</td>\n",
              "      <td>sanders</td>\n",
              "    </tr>\n",
              "  </tbody>\n",
              "</table>\n",
              "</div>"
            ],
            "text/plain": [
              "                                            sentence  speaker\n",
              "0  madam secretary , when he asked me to speak . ...  sanders\n",
              "1  too many lives have been destroyed because peo...  sanders\n",
              "2                          . . . well and i . . . \\n  sanders\n",
              "3  look , the secretary is right . this is a terr...  sanders\n",
              "4  well , hillary clinton , and everybody else wh...  sanders"
            ]
          },
          "metadata": {
            "tags": []
          },
          "execution_count": 9
        }
      ]
    },
    {
      "cell_type": "markdown",
      "metadata": {
        "id": "zN9Ab9Vyr9s0",
        "colab_type": "text"
      },
      "source": [
        "<H3>Train Naive Bayes Classifier with the data in \"train.txt\" file</H3>"
      ]
    },
    {
      "cell_type": "code",
      "metadata": {
        "id": "VcxlhfQxr9s1",
        "colab_type": "code",
        "outputId": "f33f424e-86d0-45ba-a42b-6116f545c47a",
        "colab": {
          "base_uri": "https://localhost:8080/",
          "height": 311
        }
      },
      "source": [
        "#Count of documents per class\n",
        "from collections import Counter\n",
        "docs_per_class = Counter(train_df['speaker'])\n",
        "docs_per_class"
      ],
      "execution_count": 10,
      "outputs": [
        {
          "output_type": "execute_result",
          "data": {
            "text/plain": [
              "Counter({'bush': 207,\n",
              "         'carson': 104,\n",
              "         'chafee': 18,\n",
              "         'christie': 81,\n",
              "         'clinton': 455,\n",
              "         'cruz': 273,\n",
              "         'fiorina': 90,\n",
              "         'huckabee': 41,\n",
              "         'kasich': 162,\n",
              "         \"o'malley\": 128,\n",
              "         'paul': 94,\n",
              "         'perry': 1,\n",
              "         'rubio': 305,\n",
              "         'sanders': 501,\n",
              "         'trump': 637,\n",
              "         'walker': 31,\n",
              "         'webb': 28})"
            ]
          },
          "metadata": {
            "tags": []
          },
          "execution_count": 10
        }
      ]
    },
    {
      "cell_type": "code",
      "metadata": {
        "id": "xXY_CBXwr9s3",
        "colab_type": "code",
        "colab": {}
      },
      "source": [
        "from sklearn.feature_extraction.text import CountVectorizer\n",
        "vect = CountVectorizer()\n",
        "X_train_dtm = vect.fit_transform(train_df.sentence)\n"
      ],
      "execution_count": 0,
      "outputs": []
    },
    {
      "cell_type": "code",
      "metadata": {
        "id": "iIFhFh8ir9s6",
        "colab_type": "code",
        "outputId": "299756c2-2e58-4f8b-98fc-0d54385a7a96",
        "colab": {
          "base_uri": "https://localhost:8080/",
          "height": 1000
        }
      },
      "source": [
        "#count of words for all speakers\n",
        "vect.vocabulary_"
      ],
      "execution_count": 12,
      "outputs": [
        {
          "output_type": "execute_result",
          "data": {
            "text/plain": [
              "{'no': 5532,\n",
              " 'am': 514,\n",
              " 'very': 8682,\n",
              " 'proud': 6413,\n",
              " 'to': 8240,\n",
              " 'be': 931,\n",
              " 'jewish': 4529,\n",
              " 'and': 560,\n",
              " 'being': 976,\n",
              " 'is': 4477,\n",
              " 'so': 7528,\n",
              " 'much': 5395,\n",
              " 'of': 5625,\n",
              " 'what': 8902,\n",
              " 'look': 4936,\n",
              " 'my': 5420,\n",
              " 'father': 3241,\n",
              " 'family': 3215,\n",
              " 'was': 8824,\n",
              " 'wiped': 8957,\n",
              " 'out': 5744,\n",
              " 'by': 1310,\n",
              " 'hitler': 3979,\n",
              " 'in': 4192,\n",
              " 'the': 8144,\n",
              " 'holocaust': 3992,\n",
              " 'know': 4672,\n",
              " 'about': 228,\n",
              " 'crazy': 2052,\n",
              " 'radical': 6518,\n",
              " 'extremist': 3169,\n",
              " 'politics': 6131,\n",
              " 'mean': 5132,\n",
              " 'learned': 4774,\n",
              " 'that': 8141,\n",
              " 'lesson': 4813,\n",
              " 'as': 718,\n",
              " 'tiny': 8232,\n",
              " 'child': 1543,\n",
              " 'when': 8906,\n",
              " 'mother': 5374,\n",
              " 'would': 9013,\n",
              " 'take': 8010,\n",
              " 'me': 5131,\n",
              " 'shopping': 7385,\n",
              " 'we': 8850,\n",
              " 'see': 7246,\n",
              " 'people': 5956,\n",
              " 'working': 8998,\n",
              " 'stores': 7774,\n",
              " 'who': 8923,\n",
              " 'had': 3808,\n",
              " 'numbers': 5584,\n",
              " 'on': 5659,\n",
              " 'their': 8146,\n",
              " 'arms': 696,\n",
              " 'because': 944,\n",
              " 'they': 8162,\n",
              " 'were': 8895,\n",
              " 'concentration': 1790,\n",
              " 'camp': 1337,\n",
              " 'an': 551,\n",
              " 'essential': 3007,\n",
              " 'part': 5866,\n",
              " 'human': 4066,\n",
              " 'well': 8891,\n",
              " 'just': 4597,\n",
              " 'wasn': 8829,\n",
              " 'fact': 3185,\n",
              " 'senator': 7272,\n",
              " 'there': 8158,\n",
              " 'great': 3729,\n",
              " 'effort': 2784,\n",
              " 'made': 4999,\n",
              " 'obama': 5594,\n",
              " 'administration': 337,\n",
              " 'others': 5736,\n",
              " 'really': 6602,\n",
              " 'send': 7274,\n",
              " 'clear': 1623,\n",
              " 'message': 5192,\n",
              " 'knew': 4667,\n",
              " 'many': 5062,\n",
              " 'these': 8161,\n",
              " 'children': 1546,\n",
              " 'abused': 242,\n",
              " 'treated': 8358,\n",
              " 'terribly': 8113,\n",
              " 'while': 8914,\n",
              " 'tried': 8378,\n",
              " 'get': 3628,\n",
              " 'our': 5740,\n",
              " 'border': 1139,\n",
              " 'have': 3874,\n",
              " 'disagreement': 2496,\n",
              " 'this': 8175,\n",
              " 'think': 8168,\n",
              " 'now': 5577,\n",
              " 've': 8665,\n",
              " 'called': 1326,\n",
              " 'for': 3440,\n",
              " 'counsel': 2006,\n",
              " 'every': 3039,\n",
              " 'has': 3862,\n",
              " 'face': 3177,\n",
              " 'any': 599,\n",
              " 'kind': 4651,\n",
              " 'process': 6320,\n",
              " 'without': 8973,\n",
              " 'someone': 7567,\n",
              " 'speaks': 7613,\n",
              " 'advocates': 378,\n",
              " 'right': 6997,\n",
              " 'decision': 2215,\n",
              " 'hopefully': 4018,\n",
              " 'can': 1344,\n",
              " 'thank': 8137,\n",
              " 'you': 9058,\n",
              " 'anderson': 561,\n",
              " 'cnn': 1655,\n",
              " 'facebook': 3178,\n",
              " 'sponsoring': 7658,\n",
              " 'debate': 2195,\n",
              " 'america': 531,\n",
              " 'challenges': 1490,\n",
              " 'confronting': 1835,\n",
              " 'us': 8619,\n",
              " 'ending': 2907,\n",
              " 'perpetual': 5980,\n",
              " 'wars': 8823,\n",
              " 'addressing': 325,\n",
              " 'climate': 1634,\n",
              " 'change': 1496,\n",
              " 'income': 4225,\n",
              " 'inequality': 4278,\n",
              " 'funding': 3555,\n",
              " 'education': 2774,\n",
              " 'infrastructure': 4299,\n",
              " 'healthcare': 3894,\n",
              " 'helping': 3928,\n",
              " 'black': 1061,\n",
              " 'americans': 533,\n",
              " 'native': 5450,\n",
              " 'best': 1014,\n",
              " 'able': 220,\n",
              " 'confront': 1833,\n",
              " 'served': 7305,\n",
              " 'government': 3688,\n",
              " 'at': 763,\n",
              " 'levels': 4824,\n",
              " 'it': 4501,\n",
              " 'like': 4863,\n",
              " 'solve': 7556,\n",
              " 'problems': 6313,\n",
              " 'local': 4912,\n",
              " 'level': 4822,\n",
              " 'did': 2448,\n",
              " 'mayor': 5122,\n",
              " 'how': 4053,\n",
              " 'legislation': 4796,\n",
              " 'passed': 5886,\n",
              " 'through': 8201,\n",
              " 'congress': 1842,\n",
              " 'turn': 8430,\n",
              " 'around': 698,\n",
              " 'state': 7716,\n",
              " 'governor': 3691,\n",
              " 'rhode': 6977,\n",
              " 'island': 4485,\n",
              " 'but': 1297,\n",
              " 'most': 5371,\n",
              " '30': 114,\n",
              " 'years': 9045,\n",
              " 'public': 6436,\n",
              " 'service': 7308,\n",
              " 'scandals': 7164,\n",
              " 'high': 3949,\n",
              " 'ethical': 3017,\n",
              " 'standards': 7697,\n",
              " 'judgment': 4579,\n",
              " 'particularly': 5874,\n",
              " 'iraq': 4467,\n",
              " 'war': 8807,\n",
              " 'vote': 8763,\n",
              " 'lot': 4955,\n",
              " 'pressure': 6254,\n",
              " 'political': 6124,\n",
              " 'homework': 3997,\n",
              " 'not': 5561,\n",
              " 'believe': 982,\n",
              " 'evidence': 3046,\n",
              " 'saddam': 7101,\n",
              " 'hussein': 4090,\n",
              " 'weapons': 8864,\n",
              " 'mass': 5097,\n",
              " 'destruction': 2391,\n",
              " 'live': 4894,\n",
              " 'with': 8967,\n",
              " 'consequences': 1862,\n",
              " 'want': 8803,\n",
              " 'president': 6248,\n",
              " 'going': 3663,\n",
              " 'forward': 3485,\n",
              " 'running': 7084,\n",
              " 'end': 2900,\n",
              " 'peacemaker': 5934,\n",
              " 'proven': 6418,\n",
              " 'please': 6082,\n",
              " 'go': 3657,\n",
              " 'chafee': 1477,\n",
              " '2016': 90,\n",
              " 'learn': 4773,\n",
              " 'more': 5359,\n",
              " 'let': 4816,\n",
              " 'talk': 8018,\n",
              " 'issues': 4498,\n",
              " 'bernie': 1011,\n",
              " 'got': 3680,\n",
              " 'do': 2619,\n",
              " 'move': 5383,\n",
              " 'aggressively': 418,\n",
              " 'normalize': 5553,\n",
              " 'relations': 6765,\n",
              " 'iran': 4464,\n",
              " 'understanding': 8498,\n",
              " 'behavior': 969,\n",
              " 'ways': 8849,\n",
              " 'something': 7568,\n",
              " 'disagree': 2493,\n",
              " 'support': 7924,\n",
              " 'terrorism': 8118,\n",
              " 'anti': 589,\n",
              " 'american': 532,\n",
              " 'rhetoric': 6976,\n",
              " 're': 6579,\n",
              " 'hearing': 3899,\n",
              " 'from': 3534,\n",
              " 'leadership': 4765,\n",
              " 'acceptable': 254,\n",
              " 'other': 5735,\n",
              " 'hand': 3824,\n",
              " 'managed': 5036,\n",
              " 'reach': 6580,\n",
              " 'agreement': 427,\n",
              " 'strongly': 7823,\n",
              " 'supported': 7925,\n",
              " 'prevents': 6266,\n",
              " 'getting': 3630,\n",
              " 'nuclear': 5581,\n",
              " 'weapon': 8862,\n",
              " 'seeing': 7247,\n",
              " 'fall': 3208,\n",
              " 'relationships': 6767,\n",
              " 'positive': 6165,\n",
              " 'step': 7745,\n",
              " 'if': 4111,\n",
              " 'your': 9063,\n",
              " 'question': 6499,\n",
              " 'relationship': 6766,\n",
              " 'become': 946,\n",
              " 'future': 3565,\n",
              " 'yes': 9051,\n",
              " 'tell': 8087,\n",
              " 'should': 7395,\n",
              " 'open': 5671,\n",
              " 'embassy': 2841,\n",
              " 'tehran': 8083,\n",
              " 'tomorrow': 8252,\n",
              " 'don': 2645,\n",
              " 'goal': 3658,\n",
              " 'done': 2649,\n",
              " 'cuba': 2115,\n",
              " 'warm': 8811,\n",
              " 'powerful': 6187,\n",
              " 'important': 4172,\n",
              " 'country': 2017,\n",
              " 'world': 9001,\n",
              " 'true': 8398,\n",
              " 'laughter': 4742,\n",
              " 'start': 7707,\n",
              " 'providing': 6426,\n",
              " 'senate': 7271,\n",
              " 'she': 7352,\n",
              " 'been': 951,\n",
              " 'saying': 7157,\n",
              " 'long': 4930,\n",
              " 'known': 4676,\n",
              " 'her': 3932,\n",
              " 'which': 8913,\n",
              " '25': 104,\n",
              " 'doesn': 2630,\n",
              " 'view': 8712,\n",
              " 'need': 5468,\n",
              " 'empower': 2878,\n",
              " 'everyone': 3042,\n",
              " 'women': 8982,\n",
              " 'men': 5174,\n",
              " 'make': 5021,\n",
              " 'decisions': 2216,\n",
              " 'minds': 5243,\n",
              " 'always': 511,\n",
              " 'stood': 7768,\n",
              " 'comes': 1702,\n",
              " 'are': 675,\n",
              " 'front': 3535,\n",
              " 'lines': 4879,\n",
              " 'whether': 8912,\n",
              " 'equal': 2978,\n",
              " 'pay': 5921,\n",
              " 'paid': 5825,\n",
              " 'leave': 4777,\n",
              " 'some': 7563,\n",
              " 'opportunity': 5694,\n",
              " 'far': 3227,\n",
              " 'hard': 3846,\n",
              " 'work': 8993,\n",
              " 'talent': 8014,\n",
              " 'them': 8148,\n",
              " 'still': 7757,\n",
              " 'barriers': 898,\n",
              " 'knock': 4668,\n",
              " 'down': 2667,\n",
              " 'why': 8929,\n",
              " 'core': 1978,\n",
              " 'campaign': 1338,\n",
              " 'note': 5562,\n",
              " 'historic': 3974,\n",
              " 'aside': 724,\n",
              " 'somebody': 7564,\n",
              " 'told': 8247,\n",
              " 'earlier': 2736,\n",
              " 'today': 8241,\n",
              " '200': 72,\n",
              " 'presidential': 6249,\n",
              " 'primary': 6278,\n",
              " 'debates': 2197,\n",
              " 'first': 3359,\n",
              " 'time': 8223,\n",
              " 'majority': 5020,\n",
              " 'stage': 7684,\n",
              " 'll': 4900,\n",
              " 'progress': 6351,\n",
              " 'wherever': 8911,\n",
              " 'find': 3331,\n",
              " 'nikki': 5526,\n",
              " 'fair': 3200,\n",
              " 'all': 480,\n",
              " 'flint': 3389,\n",
              " 'several': 7326,\n",
              " 'things': 8167,\n",
              " 'repair': 6820,\n",
              " 'weaver': 8868,\n",
              " 'program': 6349,\n",
              " 'begin': 960,\n",
              " 'help': 3925,\n",
              " 'train': 8320,\n",
              " 'distribute': 2591,\n",
              " 'water': 8839,\n",
              " 'everything': 3043,\n",
              " 'triple': 8385,\n",
              " 'checked': 1528,\n",
              " 'regain': 6712,\n",
              " 'trust': 8405,\n",
              " 'hold': 3987,\n",
              " 'those': 8178,\n",
              " 'responsible': 6908,\n",
              " 'fixing': 3372,\n",
              " 'pipes': 6049,\n",
              " 'delivering': 2289,\n",
              " 'clean': 1618,\n",
              " 'said': 7109,\n",
              " 'bathe': 917,\n",
              " 'drink': 2694,\n",
              " 'wash': 8825,\n",
              " 'food': 3430,\n",
              " 'one': 5662,\n",
              " 'run': 7083,\n",
              " 'use': 8622,\n",
              " 'single': 7454,\n",
              " 'day': 2179,\n",
              " 'understand': 8496,\n",
              " 'pressures': 6255,\n",
              " 'real': 6594,\n",
              " 'pain': 5826,\n",
              " 'families': 3214,\n",
              " 'will': 8938,\n",
              " 'sure': 7938,\n",
              " 'double': 2660,\n",
              " 'check': 1527,\n",
              " 'elected': 2802,\n",
              " 'officials': 5643,\n",
              " 'senators': 7273,\n",
              " 'member': 5167,\n",
              " 'assure': 757,\n",
              " 'fixed': 3370,\n",
              " 'deserve': 2367,\n",
              " 'nothing': 5564,\n",
              " 'less': 4810,\n",
              " 'changes': 1499,\n",
              " 'record': 6648,\n",
              " 'toughest': 8281,\n",
              " 'comprehensive': 1780,\n",
              " 'plan': 6060,\n",
              " 'after': 401,\n",
              " 'wall': 8796,\n",
              " 'street': 7797,\n",
              " 'big': 1035,\n",
              " 'banks': 875,\n",
              " 'financial': 3329,\n",
              " 'interests': 4395,\n",
              " 'pose': 6159,\n",
              " 'threat': 8185,\n",
              " 'economy': 2764,\n",
              " 'bank': 867,\n",
              " 'too': 8255,\n",
              " 'fail': 3193,\n",
              " 'executive': 3083,\n",
              " 'jail': 4509,\n",
              " 'powers': 6189,\n",
              " 'incidentally': 4214,\n",
              " 'took': 8256,\n",
              " 'money': 5338,\n",
              " 'didn': 2449,\n",
              " 'stop': 7769,\n",
              " 'him': 3962,\n",
              " 'signing': 7436,\n",
              " 'into': 4421,\n",
              " 'law': 4748,\n",
              " 'regulations': 6735,\n",
              " 'industry': 4271,\n",
              " 'since': 7453,\n",
              " 'depression': 2348,\n",
              " 'democratic': 2303,\n",
              " 'nomination': 5540,\n",
              " 'united': 8541,\n",
              " 'states': 7720,\n",
              " 'here': 3935,\n",
              " 'good': 3671,\n",
              " 'point': 6104,\n",
              " 'virtually': 8735,\n",
              " 'general': 3604,\n",
              " 'election': 2804,\n",
              " 'match': 5106,\n",
              " 'up': 8593,\n",
              " 'polls': 6135,\n",
              " 'between': 1023,\n",
              " 'trump': 8402,\n",
              " 'secretary': 7233,\n",
              " 'clinton': 1638,\n",
              " 'sanders': 7132,\n",
              " 'almost': 495,\n",
              " 'better': 1021,\n",
              " 'than': 8136,\n",
              " 'both': 1151,\n",
              " 'poll': 6132,\n",
              " '20': 71,\n",
              " 'points': 6107,\n",
              " 'ahead': 433,\n",
              " '12': 17,\n",
              " 'whole': 8926,\n",
              " 'may': 5120,\n",
              " 'shock': 7376,\n",
              " 'independents': 4252,\n",
              " 'vigorous': 8718,\n",
              " 'then': 8151,\n",
              " 'answer': 584,\n",
              " 'another': 583,\n",
              " 'page': 5823,\n",
              " 'seriously': 7300,\n",
              " 'his': 3971,\n",
              " 'deplorable': 2336,\n",
              " 'ever': 3038,\n",
              " 'once': 5661,\n",
              " 'word': 8991,\n",
              " 'issue': 4496,\n",
              " 'malley': 5032,\n",
              " 'facing': 3184,\n",
              " 'bill': 1042,\n",
              " 'personal': 5987,\n",
              " 'snowden': 7525,\n",
              " 'put': 6469,\n",
              " 'lives': 4897,\n",
              " 'risk': 7013,\n",
              " 'broke': 1224,\n",
              " 'whistleblowers': 8920,\n",
              " 'russia': 7090,\n",
              " 'try': 8411,\n",
              " 'protection': 6407,\n",
              " 'putin': 6470,\n",
              " 'he': 3882,\n",
              " 'believes': 985,\n",
              " 'back': 831,\n",
              " 'oh': 5647,\n",
              " 'breaking': 1185,\n",
              " 'ok': 5651,\n",
              " 'commercial': 1720,\n",
              " 'break': 1182,\n",
              " 'proposals': 6389,\n",
              " 'absolutely': 235,\n",
              " 'happen': 3837,\n",
              " 'revitalize': 6963,\n",
              " 'rebuild': 6614,\n",
              " 'crumbling': 2107,\n",
              " 'middle': 5208,\n",
              " 'class': 1608,\n",
              " 'last': 4730,\n",
              " 'massive': 5103,\n",
              " 'redistribution': 6667,\n",
              " 'wealth': 8859,\n",
              " 'term': 8106,\n",
              " 'gets': 3629,\n",
              " 'republican': 6854,\n",
              " 'friends': 3532,\n",
              " 'nervous': 5493,\n",
              " 'problem': 6311,\n",
              " 'gone': 3669,\n",
              " 'wrong': 9029,\n",
              " 'direction': 2481,\n",
              " 'trillions': 8382,\n",
              " 'dollars': 2635,\n",
              " 'top': 8259,\n",
              " 'tenth': 8101,\n",
              " 'percent': 5959,\n",
              " 'doubled': 2661,\n",
              " 'percentage': 5960,\n",
              " 'own': 5805,\n",
              " 'must': 5418,\n",
              " 'corporate': 1984,\n",
              " 'loopholes': 4942,\n",
              " 'such': 7877,\n",
              " 'major': 5019,\n",
              " 'corporations': 1986,\n",
              " 'year': 9043,\n",
              " 'zero': 9070,\n",
              " 'federal': 3266,\n",
              " 'tax': 8053,\n",
              " 'stashing': 7715,\n",
              " 'cayman': 1443,\n",
              " 'islands': 4486,\n",
              " 'speculation': 7628,\n",
              " 'bailed': 849,\n",
              " 'bail': 848,\n",
              " 'kids': 4641,\n",
              " 'college': 1684,\n",
              " 'tuition': 8419,\n",
              " 'free': 3516,\n",
              " 'demanding': 2295,\n",
              " 'wealthiest': 8860,\n",
              " 'largest': 4725,\n",
              " 'gotten': 3683,\n",
              " 'away': 821,\n",
              " 'murder': 5406,\n",
              " 'paying': 5925,\n",
              " 'share': 7344,\n",
              " 'region': 6721,\n",
              " 'failed': 3194,\n",
              " 'follow': 3424,\n",
              " 'rightly': 6999,\n",
              " 'required': 6860,\n",
              " 'eliminated': 2820,\n",
              " 'epa': 2974,\n",
              " 'shut': 7413,\n",
              " 'exists': 3096,\n",
              " 'telephone': 8085,\n",
              " 'call': 1325,\n",
              " 'ends': 2915,\n",
              " 'file': 3314,\n",
              " 'nsa': 5580,\n",
              " 'unacceptable': 8461,\n",
              " 'surveillance': 7951,\n",
              " 'involved': 4457,\n",
              " 'mails': 5012,\n",
              " 'websites': 8872,\n",
              " 'doing': 2633,\n",
              " 'defend': 2247,\n",
              " 'ourselves': 5742,\n",
              " 'against': 406,\n",
              " 'impinging': 4162,\n",
              " 'constitutional': 1886,\n",
              " 'rights': 7000,\n",
              " 'privacy': 6295,\n",
              " 'john': 4546,\n",
              " 'honor': 4007,\n",
              " 'chairman': 1484,\n",
              " 'committee': 1729,\n",
              " 'veterans': 8687,\n",
              " 'affairs': 381,\n",
              " 'two': 8444,\n",
              " 'capacity': 1363,\n",
              " 'met': 5197,\n",
              " 'extraordinary': 3165,\n",
              " 'group': 3759,\n",
              " 'ii': 4116,\n",
              " 'korea': 4679,\n",
              " 'vietnam': 8711,\n",
              " 'came': 1334,\n",
              " 'afghanistan': 395,\n",
              " 'legs': 4803,\n",
              " 'determined': 2406,\n",
              " 'could': 2002,\n",
              " 'va': 8638,\n",
              " 'health': 3893,\n",
              " 'care': 1379,\n",
              " 'expand': 3098,\n",
              " 'benefits': 1002,\n",
              " 'line': 4877,\n",
              " 'defending': 2250,\n",
              " 'brought': 1232,\n",
              " 'together': 8243,\n",
              " 'legion': 4794,\n",
              " 'vfw': 8694,\n",
              " 'dod': 2627,\n",
              " 'vets': 8691,\n",
              " 'organizations': 5722,\n",
              " 'clearly': 1625,\n",
              " 'piece': 6035,\n",
              " 'forth': 3478,\n",
              " 'decades': 2203,\n",
              " 'only': 5667,\n",
              " 'votes': 8767,\n",
              " 'ended': 2906,\n",
              " '56': 158,\n",
              " 'needed': 5469,\n",
              " '60': 162,\n",
              " 'wanted': 8804,\n",
              " 'sit': 7462,\n",
              " 'mccain': 5124,\n",
              " 'jeff': 4520,\n",
              " 'miller': 5233,\n",
              " 'house': 4048,\n",
              " 'yet': 9053,\n",
              " 'turned': 8431,\n",
              " 'significant': 7434,\n",
              " 'pieces': 6036,\n",
              " 'recent': 6624,\n",
              " 'history': 3977,\n",
              " 'crisis': 2078,\n",
              " 'lost': 4954,\n",
              " 'stand': 7695,\n",
              " 'come': 1700,\n",
              " 'thanks': 8140,\n",
              " 'even': 3032,\n",
              " 'orders': 5716,\n",
              " 'signed': 7433,\n",
              " 'kathie': 4614,\n",
              " 'directly': 2483,\n",
              " 'related': 6762,\n",
              " 'growth': 3765,\n",
              " 'act': 293,\n",
              " 'listen': 4885,\n",
              " 'scientists': 7186,\n",
              " 'say': 7156,\n",
              " 'countries': 2016,\n",
              " 'over': 5773,\n",
              " 'cia': 1576,\n",
              " 'says': 7158,\n",
              " 'struggling': 7830,\n",
              " 'limited': 4871,\n",
              " 'amounts': 543,\n",
              " 'land': 4715,\n",
              " 'grow': 3761,\n",
              " 'crops': 2095,\n",
              " 'ask': 726,\n",
              " 'kinds': 4654,\n",
              " 'international': 4401,\n",
              " 'conflict': 1829,\n",
              " 'course': 2026,\n",
              " 'address': 323,\n",
              " 'agree': 423,\n",
              " 'area': 676,\n",
              " 'bulk': 1257,\n",
              " 'responsibility': 6907,\n",
              " 'ours': 5741,\n",
              " 'argue': 682,\n",
              " 'disastrous': 2508,\n",
              " 'invasion': 4429,\n",
              " 'opposed': 5696,\n",
              " 'unraveled': 8572,\n",
              " 'completely': 1768,\n",
              " 'led': 4782,\n",
              " 'rise': 7009,\n",
              " 'al': 461,\n",
              " 'qaeda': 6475,\n",
              " 'isis': 4479,\n",
              " 'widespread': 8933,\n",
              " 'cannot': 1358,\n",
              " 'alone': 496,\n",
              " 'lead': 4762,\n",
              " 'coalition': 1659,\n",
              " 'includes': 4222,\n",
              " 'significantly': 7435,\n",
              " 'muslim': 5416,\n",
              " 'nations': 5448,\n",
              " 'fight': 3305,\n",
              " 'way': 8847,\n",
              " 'life': 4852,\n",
              " 'lester': 4815,\n",
              " 'everywhere': 3045,\n",
              " 'meeting': 5162,\n",
              " 'affected': 383,\n",
              " 'drug': 2709,\n",
              " 'mostly': 5372,\n",
              " 'opioids': 5689,\n",
              " 'heroin': 3938,\n",
              " 'orphaned': 5732,\n",
              " 'grandparents': 3715,\n",
              " 'taking': 8013,\n",
              " 'grandchildren': 3707,\n",
              " 'approach': 651,\n",
              " 'number': 5583,\n",
              " 'does': 2629,\n",
              " 'putting': 6472,\n",
              " 'billion': 1043,\n",
              " 'different': 2458,\n",
              " 'dealing': 2188,\n",
              " 'epidemic': 2975,\n",
              " 'policing': 6120,\n",
              " 'needs': 5471,\n",
              " 'police': 6116,\n",
              " 'officers': 5640,\n",
              " 'equipped': 2985,\n",
              " 'antidote': 591,\n",
              " 'overdose': 5779,\n",
              " 'or': 5710,\n",
              " 'opioid': 5688,\n",
              " 'narcan': 5439,\n",
              " 'administer': 335,\n",
              " 'firefighters': 3350,\n",
              " 'treating': 8359,\n",
              " 'drugs': 2710,\n",
              " 'crime': 2069,\n",
              " 'instead': 4348,\n",
              " 'where': 8908,\n",
              " 'belongs': 991,\n",
              " 'divert': 2603,\n",
              " 'criminal': 2072,\n",
              " 'justice': 4598,\n",
              " 'system': 7994,\n",
              " 'courts': 2031,\n",
              " 'treatment': 8360,\n",
              " 'recovery': 6653,\n",
              " 'version': 8680,\n",
              " 'dream': 2688,\n",
              " 'represented': 6847,\n",
              " 'constituents': 1884,\n",
              " 'abilities': 218,\n",
              " 'pick': 6025,\n",
              " 'discussion': 2535,\n",
              " 'began': 956,\n",
              " 'commented': 1717,\n",
              " 'making': 5026,\n",
              " 'overall': 5774,\n",
              " 'evaluation': 3029,\n",
              " 'ohio': 5648,\n",
              " 'september': 7295,\n",
              " 'november': 5576,\n",
              " 'beeni': 952,\n",
              " 'paraphrasing': 5854,\n",
              " 'criticized': 2086,\n",
              " 'moderate': 5319,\n",
              " 'progressive': 6352,\n",
              " 'terms': 8111,\n",
              " 'remember': 6799,\n",
              " 'seven': 7323,\n",
              " 'ago': 421,\n",
              " '800': 187,\n",
              " '000': 1,\n",
              " 'jobs': 4543,\n",
              " 'month': 5347,\n",
              " 'trillion': 8381,\n",
              " 'dollar': 2634,\n",
              " 'deficit': 2257,\n",
              " 'verge': 8674,\n",
              " 'collapse': 1672,\n",
              " 'vice': 8700,\n",
              " 'biden': 1034,\n",
              " 'fantastic': 3225,\n",
              " 'job': 4541,\n",
              " 'shape': 7343,\n",
              " 'although': 507,\n",
              " 'colleagues': 1678,\n",
              " 'seem': 7251,\n",
              " 'forgotten': 3466,\n",
              " 'including': 4223,\n",
              " 'trade': 8304,\n",
              " 'excellent': 3062,\n",
              " 'daylight': 2181,\n",
              " 'basic': 910,\n",
              " 'premise': 6227,\n",
              " 'individual': 4265,\n",
              " 'comments': 1718,\n",
              " 'affect': 382,\n",
              " 'donations': 2648,\n",
              " 'recession': 6628,\n",
              " 'weak': 8851,\n",
              " 'disappointing': 2504,\n",
              " '2011': 85,\n",
              " 'publicly': 6438,\n",
              " 'sought': 7587,\n",
              " 'personally': 5988,\n",
              " 'push': 6466,\n",
              " 'dodd': 2628,\n",
              " 'frank': 3510,\n",
              " 'sign': 7429,\n",
              " 'regulatory': 6737,\n",
              " 'schemes': 7175,\n",
              " '1930s': 42,\n",
              " 'results': 6925,\n",
              " 'never': 5504,\n",
              " 'legitimate': 4802,\n",
              " 'answered': 585,\n",
              " 'questions': 6502,\n",
              " 'certainly': 1468,\n",
              " 'again': 405,\n",
              " 'before': 955,\n",
              " 'unfair': 8515,\n",
              " 'entire': 2962,\n",
              " 'picture': 6032,\n",
              " 'spent': 7638,\n",
              " 'million': 5234,\n",
              " 'taxpayer': 8059,\n",
              " 'trying': 8412,\n",
              " 'figure': 3310,\n",
              " 'protect': 6404,\n",
              " 'diplomats': 2478,\n",
              " 'benghazi': 1003,\n",
              " 'wouldn': 9014,\n",
              " 'already': 499,\n",
              " 'reports': 6843,\n",
              " 'pretty': 6260,\n",
              " 'obvious': 5612,\n",
              " 'story': 7777,\n",
              " 'voting': 8768,\n",
              " 'bailout': 850,\n",
              " 'billionaires': 1045,\n",
              " 'destroyed': 2387,\n",
              " 'went': 8894,\n",
              " 'boys': 1164,\n",
              " 'themselves': 8150,\n",
              " 'shouldn': 7398,\n",
              " 'involvement': 4458,\n",
              " 'regime': 6719,\n",
              " 'quite': 6510,\n",
              " 'often': 5645,\n",
              " 'recall': 6618,\n",
              " 'times': 8225,\n",
              " 'debating': 2198,\n",
              " 'asked': 727,\n",
              " 'valued': 8657,\n",
              " 'situation': 7467,\n",
              " 'room': 7050,\n",
              " 'difficult': 2461,\n",
              " 'troops': 8388,\n",
              " 'ground': 3756,\n",
              " 'syria': 7991,\n",
              " 'worked': 8994,\n",
              " 'left': 4784,\n",
              " 'department': 2329,\n",
              " 'include': 4220,\n",
              " 'arabs': 664,\n",
              " 'worry': 9004,\n",
              " 'gaining': 3570,\n",
              " 'territory': 8116,\n",
              " 'having': 3879,\n",
              " 'frankly': 3511,\n",
              " 'posing': 6162,\n",
              " 'neighbors': 5486,\n",
              " 'beyond': 1025,\n",
              " 'talking': 8020,\n",
              " 'tough': 8279,\n",
              " 'osama': 5734,\n",
              " 'bin': 1048,\n",
              " 'laden': 4705,\n",
              " 'few': 3295,\n",
              " 'advisers': 372,\n",
              " 'impose': 4176,\n",
              " 'sanctions': 7129,\n",
              " 'crosstalk': 2102,\n",
              " 'export': 3143,\n",
              " 'import': 4170,\n",
              " 'boeing': 1110,\n",
              " 'corporation': 1985,\n",
              " '40': 133,\n",
              " 'revenue': 6951,\n",
              " 'couldn': 2004,\n",
              " 'myself': 5422,\n",
              " 'give': 3641,\n",
              " 'credit': 2066,\n",
              " 'lighting': 4861,\n",
              " 'fire': 3345,\n",
              " 'under': 8475,\n",
              " 'young': 9059,\n",
              " 'old': 5654,\n",
              " 'everybody': 3040,\n",
              " 'sees': 7254,\n",
              " 'chance': 1494,\n",
              " 'voice': 8752,\n",
              " 'heard': 3898,\n",
              " 'happening': 3840,\n",
              " 'republicans': 6855,\n",
              " 'prevent': 6263,\n",
              " 'voices': 8755,\n",
              " 'registering': 6725,\n",
              " 'thing': 8166,\n",
              " 'quickly': 6504,\n",
              " 'deserves': 2369,\n",
              " 'washington': 8828,\n",
              " 'despite': 2379,\n",
              " 'obstructionists': 5611,\n",
              " 'understandably': 8497,\n",
              " 'reacting': 6585,\n",
              " 'fear': 3255,\n",
              " 'anxiety': 597,\n",
              " 'saw': 7154,\n",
              " 'paris': 5863,\n",
              " 'seen': 7253,\n",
              " 'san': 7127,\n",
              " 'bernardino': 1010,\n",
              " 'mr': 5390,\n",
              " 'bluster': 1097,\n",
              " 'bigotry': 1039,\n",
              " 'inflame': 4290,\n",
              " 'easy': 2751,\n",
              " 'answers': 587,\n",
              " 'complex': 1771,\n",
              " 'threats': 8190,\n",
              " 'focused': 3414,\n",
              " 'watching': 8838,\n",
              " 'happens': 3841,\n",
              " 'reporting': 6842,\n",
              " 'suspicious': 7963,\n",
              " 'hear': 3897,\n",
              " 'feel': 3272,\n",
              " 'marginalized': 5074,\n",
              " 'moment': 5332,\n",
              " 'funded': 3554,\n",
              " 'asking': 728,\n",
              " 'false': 3211,\n",
              " 'choice': 1554,\n",
              " 'air': 444,\n",
              " 'position': 6163,\n",
              " 'intensify': 4378,\n",
              " 'continue': 1917,\n",
              " 'build': 1252,\n",
              " 'iraqi': 4468,\n",
              " 'army': 697,\n",
              " 'success': 7871,\n",
              " 'ramadi': 6541,\n",
              " 'tribal': 8371,\n",
              " 'sheiks': 7358,\n",
              " 'anbar': 558,\n",
              " 'successful': 7873,\n",
              " 'qaida': 6476,\n",
              " 'turks': 8428,\n",
              " 'attention': 777,\n",
              " 'kurds': 4691,\n",
              " 'specific': 7617,\n",
              " 'tasks': 8049,\n",
              " 'outlining': 5753,\n",
              " 'destroying': 2388,\n",
              " 'outlined': 5752,\n",
              " 'kitchen': 4662,\n",
              " 'table': 7999,\n",
              " 'goes': 3662,\n",
              " 'possibly': 6171,\n",
              " 'accomplished': 265,\n",
              " 'husband': 4089,\n",
              " '90s': 195,\n",
              " 'especially': 3003,\n",
              " 'raising': 6536,\n",
              " 'incomes': 4226,\n",
              " 'lifting': 4858,\n",
              " 'poverty': 6184,\n",
              " 'bet': 1015,\n",
              " 'ideas': 4103,\n",
              " 'advice': 369,\n",
              " 'goodwill': 3675,\n",
              " 'emissary': 2859,\n",
              " 'solved': 7557,\n",
              " 'somewhere': 7572,\n",
              " 'poor': 6142,\n",
              " 'communities': 1741,\n",
              " 'color': 1687,\n",
              " 'little': 4893,\n",
              " 'bit': 1056,\n",
              " 'happened': 3839,\n",
              " 'sandy': 7134,\n",
              " 'hook': 4013,\n",
              " 'michigan': 5206,\n",
              " 'terrible': 8112,\n",
              " 'tragedy': 8316,\n",
              " 'mentioned': 5179,\n",
              " 'killings': 4647,\n",
              " 'person': 5986,\n",
              " 'whose': 8928,\n",
              " 'heart': 3902,\n",
              " 'broken': 1225,\n",
              " 'killing': 4646,\n",
              " 'unspeakable': 8580,\n",
              " 'lunatic': 4982,\n",
              " ...}"
            ]
          },
          "metadata": {
            "tags": []
          },
          "execution_count": 12
        }
      ]
    },
    {
      "cell_type": "code",
      "metadata": {
        "id": "tW2_-PFCr9s9",
        "colab_type": "code",
        "colab": {}
      },
      "source": [
        "#Train Naive Bayes Classifier\n",
        "#MultinomialNB has default smoothing factor of 1\n",
        "from sklearn.naive_bayes import MultinomialNB\n",
        "nb_clf = MultinomialNB().fit(X_train_dtm, train_df.speaker)"
      ],
      "execution_count": 0,
      "outputs": []
    },
    {
      "cell_type": "markdown",
      "metadata": {
        "id": "hQ9wxXYer9s_",
        "colab_type": "text"
      },
      "source": [
        "<H3>Test the developed naive bayes classifier with \"test.txt\" file</H3>"
      ]
    },
    {
      "cell_type": "code",
      "metadata": {
        "id": "Hx59Cmjxr9tA",
        "colab_type": "code",
        "colab": {}
      },
      "source": [
        "X_test_dtm = vect.transform(test_df.sentence)\n",
        "predicted_speaker=nb_clf.predict(X_test_dtm)"
      ],
      "execution_count": 0,
      "outputs": []
    },
    {
      "cell_type": "code",
      "metadata": {
        "id": "krxDELbdr9tD",
        "colab_type": "code",
        "outputId": "9988ace9-1620-411d-a4c0-2f0e127c01d4",
        "colab": {
          "base_uri": "https://localhost:8080/",
          "height": 34
        }
      },
      "source": [
        "from sklearn import metrics\n",
        "metrics.accuracy_score(test_df.speaker, predicted_speaker)"
      ],
      "execution_count": 15,
      "outputs": [
        {
          "output_type": "execute_result",
          "data": {
            "text/plain": [
              "0.515"
            ]
          },
          "metadata": {
            "tags": []
          },
          "execution_count": 15
        }
      ]
    },
    {
      "cell_type": "code",
      "metadata": {
        "id": "ECH3q5CWr9tF",
        "colab_type": "code",
        "outputId": "99b65459-39b9-4298-f7c5-3e9980e83bb1",
        "colab": {
          "base_uri": "https://localhost:8080/",
          "height": 469
        }
      },
      "source": [
        "#Evaluate model\n",
        "from sklearn import metrics\n",
        "print(metrics.classification_report(test_df.speaker, predicted_speaker, target_names=test_df.speaker.unique()))"
      ],
      "execution_count": 16,
      "outputs": [
        {
          "output_type": "stream",
          "text": [
            "              precision    recall  f1-score   support\n",
            "\n",
            "     sanders       0.75      0.10      0.18        30\n",
            "     clinton       0.00      0.00      0.00        16\n",
            "    o'malley       0.00      0.00      0.00         2\n",
            "      chafee       0.00      0.00      0.00        12\n",
            "        webb       0.43      0.74      0.54        53\n",
            "    huckabee       0.79      0.65      0.71        34\n",
            "       trump       0.00      0.00      0.00        10\n",
            "        cruz       0.00      0.00      0.00         7\n",
            "        paul       0.79      0.35      0.49        31\n",
            "    christie       0.60      0.17      0.26        18\n",
            "       rubio       0.00      0.00      0.00         5\n",
            "     fiorina       0.52      0.54      0.53        41\n",
            "      kasich       0.51      0.69      0.59        64\n",
            "        bush       0.48      0.87      0.62        71\n",
            "      carson       0.00      0.00      0.00         3\n",
            "      walker       0.00      0.00      0.00         3\n",
            "\n",
            "    accuracy                           0.52       400\n",
            "   macro avg       0.30      0.26      0.24       400\n",
            "weighted avg       0.49      0.52      0.45       400\n",
            "\n"
          ],
          "name": "stdout"
        },
        {
          "output_type": "stream",
          "text": [
            "/usr/local/lib/python3.6/dist-packages/sklearn/metrics/classification.py:1437: UndefinedMetricWarning: Precision and F-score are ill-defined and being set to 0.0 in labels with no predicted samples.\n",
            "  'precision', 'predicted', average, warn_for)\n"
          ],
          "name": "stderr"
        }
      ]
    },
    {
      "cell_type": "markdown",
      "metadata": {
        "id": "P8GuWCp_1yRv",
        "colab_type": "text"
      },
      "source": [
        "## Using TFIDF as Features"
      ]
    },
    {
      "cell_type": "markdown",
      "metadata": {
        "id": "yNu-WAv243XG",
        "colab_type": "text"
      },
      "source": [
        "We use TF-IDF to represent words in vectors that describe the weighted frequecy of a word in the corpus"
      ]
    },
    {
      "cell_type": "code",
      "metadata": {
        "id": "Cur-Q1Nyr9tI",
        "colab_type": "code",
        "colab": {}
      },
      "source": [
        "from sklearn.feature_extraction.text import TfidfVectorizer\n",
        "vectorizer = TfidfVectorizer()\n",
        "tfidf_vector = vectorizer.fit_transform(train_df.sentence)"
      ],
      "execution_count": 0,
      "outputs": []
    },
    {
      "cell_type": "code",
      "metadata": {
        "id": "9ynhgeUM0pj3",
        "colab_type": "code",
        "colab": {}
      },
      "source": [
        "#Train Naive Bayes Classifier\n",
        "#MultinomialNB has default smoothing factor of 1\n",
        "from sklearn.naive_bayes import MultinomialNB\n",
        "nb_clf_tfidf = MultinomialNB().fit(tfidf_vector, train_df.speaker)"
      ],
      "execution_count": 0,
      "outputs": []
    },
    {
      "cell_type": "code",
      "metadata": {
        "colab_type": "code",
        "id": "3zkBVa-VwXR8",
        "colab": {}
      },
      "source": [
        "X_test_tfidf = vectorizer.transform(test_df.sentence)\n",
        "predicted_speaker=nb_clf_tfidf.predict(X_test_tfidf)"
      ],
      "execution_count": 0,
      "outputs": []
    },
    {
      "cell_type": "code",
      "metadata": {
        "colab_type": "code",
        "outputId": "883cbf7e-4b91-476a-ec8e-038f607d7af3",
        "id": "BOmxXnzFwXSN",
        "colab": {
          "base_uri": "https://localhost:8080/",
          "height": 34
        }
      },
      "source": [
        "from sklearn import metrics\n",
        "metrics.accuracy_score(test_df.speaker, predicted_speaker)"
      ],
      "execution_count": 39,
      "outputs": [
        {
          "output_type": "execute_result",
          "data": {
            "text/plain": [
              "0.3725"
            ]
          },
          "metadata": {
            "tags": []
          },
          "execution_count": 39
        }
      ]
    },
    {
      "cell_type": "code",
      "metadata": {
        "colab_type": "code",
        "outputId": "891edbf0-d867-48ea-fb7c-8a55f7fc5207",
        "id": "jbz2Q5tgwXSV",
        "colab": {
          "base_uri": "https://localhost:8080/",
          "height": 469
        }
      },
      "source": [
        "#Evaluate model\n",
        "from sklearn import metrics\n",
        "print(metrics.classification_report(test_df.speaker, predicted_speaker, target_names=test_df.speaker.unique()))"
      ],
      "execution_count": 40,
      "outputs": [
        {
          "output_type": "stream",
          "text": [
            "              precision    recall  f1-score   support\n",
            "\n",
            "     sanders       0.00      0.00      0.00        30\n",
            "     clinton       0.00      0.00      0.00        16\n",
            "    o'malley       0.00      0.00      0.00         2\n",
            "      chafee       0.00      0.00      0.00        12\n",
            "        webb       0.36      0.62      0.46        53\n",
            "    huckabee       0.00      0.00      0.00        34\n",
            "       trump       0.00      0.00      0.00        10\n",
            "        cruz       0.00      0.00      0.00         7\n",
            "        paul       0.00      0.00      0.00        31\n",
            "    christie       0.00      0.00      0.00        18\n",
            "       rubio       0.00      0.00      0.00         5\n",
            "     fiorina       0.00      0.00      0.00        41\n",
            "      kasich       0.47      0.75      0.57        64\n",
            "        bush       0.33      0.96      0.49        71\n",
            "      carson       0.00      0.00      0.00         3\n",
            "      walker       0.00      0.00      0.00         3\n",
            "\n",
            "    accuracy                           0.37       400\n",
            "   macro avg       0.07      0.15      0.10       400\n",
            "weighted avg       0.18      0.37      0.24       400\n",
            "\n"
          ],
          "name": "stdout"
        },
        {
          "output_type": "stream",
          "text": [
            "/usr/local/lib/python3.6/dist-packages/sklearn/metrics/classification.py:1437: UndefinedMetricWarning: Precision and F-score are ill-defined and being set to 0.0 in labels with no predicted samples.\n",
            "  'precision', 'predicted', average, warn_for)\n"
          ],
          "name": "stderr"
        }
      ]
    },
    {
      "cell_type": "markdown",
      "metadata": {
        "id": "uvaMB8Xi18j9",
        "colab_type": "text"
      },
      "source": [
        "As we can see, the accuracy has reduced consderably to 37%"
      ]
    },
    {
      "cell_type": "markdown",
      "metadata": {
        "id": "CSs88whN123A",
        "colab_type": "text"
      },
      "source": [
        "## Using NGrams as Features"
      ]
    },
    {
      "cell_type": "markdown",
      "metadata": {
        "id": "oQTYNf_H5HrR",
        "colab_type": "text"
      },
      "source": [
        "Our original experiment only included unigrams. We now consider 5 sets of Ngrams from N=2 till N=6."
      ]
    },
    {
      "cell_type": "code",
      "metadata": {
        "id": "HS4Qr8-kzwgU",
        "colab_type": "code",
        "colab": {}
      },
      "source": [
        "bigram_vectorizer = CountVectorizer(ngram_range=(2, 6))"
      ],
      "execution_count": 0,
      "outputs": []
    },
    {
      "cell_type": "code",
      "metadata": {
        "id": "O7XF7gZMz27c",
        "colab_type": "code",
        "colab": {}
      },
      "source": [
        "X_train_ngrams = bigram_vectorizer.fit_transform(train_df.sentence)"
      ],
      "execution_count": 0,
      "outputs": []
    },
    {
      "cell_type": "code",
      "metadata": {
        "id": "jXSd5LgU0khR",
        "colab_type": "code",
        "colab": {}
      },
      "source": [
        "#Train Naive Bayes Classifier\n",
        "#MultinomialNB has default smoothing factor of 1\n",
        "from sklearn.naive_bayes import MultinomialNB\n",
        "nb_clf_ngrams = MultinomialNB().fit(X_train_ngrams, train_df.speaker)"
      ],
      "execution_count": 0,
      "outputs": []
    },
    {
      "cell_type": "code",
      "metadata": {
        "id": "oTrcvPlZ1AMh",
        "colab_type": "code",
        "colab": {}
      },
      "source": [
        "X_test_ngrams = bigram_vectorizer.transform(test_df.sentence)"
      ],
      "execution_count": 0,
      "outputs": []
    },
    {
      "cell_type": "code",
      "metadata": {
        "colab_type": "code",
        "id": "YTYDtKyX0ey_",
        "colab": {}
      },
      "source": [
        "predicted_speaker=nb_clf_ngrams.predict(X_test_ngrams)"
      ],
      "execution_count": 0,
      "outputs": []
    },
    {
      "cell_type": "code",
      "metadata": {
        "colab_type": "code",
        "outputId": "b3ed5d03-3fac-43e9-ac82-8a7bff6ca85e",
        "id": "jj0zwBij0ezI",
        "colab": {
          "base_uri": "https://localhost:8080/",
          "height": 34
        }
      },
      "source": [
        "from sklearn import metrics\n",
        "metrics.accuracy_score(test_df.speaker, predicted_speaker)"
      ],
      "execution_count": 89,
      "outputs": [
        {
          "output_type": "execute_result",
          "data": {
            "text/plain": [
              "0.5625"
            ]
          },
          "metadata": {
            "tags": []
          },
          "execution_count": 89
        }
      ]
    },
    {
      "cell_type": "code",
      "metadata": {
        "colab_type": "code",
        "outputId": "8b78fda0-1ef9-4b39-cde6-51aa7b54bcc3",
        "id": "CuME-QIr0ezQ",
        "colab": {
          "base_uri": "https://localhost:8080/",
          "height": 469
        }
      },
      "source": [
        "#Evaluate model\n",
        "from sklearn import metrics\n",
        "print(metrics.classification_report(test_df.speaker, predicted_speaker, target_names=test_df.speaker.unique()))"
      ],
      "execution_count": 90,
      "outputs": [
        {
          "output_type": "stream",
          "text": [
            "              precision    recall  f1-score   support\n",
            "\n",
            "     sanders       0.80      0.27      0.40        30\n",
            "     clinton       1.00      0.12      0.22        16\n",
            "    o'malley       0.00      0.00      0.00         2\n",
            "      chafee       1.00      0.08      0.15        12\n",
            "        webb       0.44      0.72      0.55        53\n",
            "    huckabee       0.88      0.62      0.72        34\n",
            "       trump       1.00      0.10      0.18        10\n",
            "        cruz       0.00      0.00      0.00         7\n",
            "        paul       0.80      0.26      0.39        31\n",
            "    christie       1.00      0.33      0.50        18\n",
            "       rubio       1.00      0.40      0.57         5\n",
            "     fiorina       0.67      0.63      0.65        41\n",
            "      kasich       0.52      0.72      0.61        64\n",
            "        bush       0.50      0.92      0.65        71\n",
            "      carson       0.50      0.33      0.40         3\n",
            "      walker       0.00      0.00      0.00         3\n",
            "\n",
            "    accuracy                           0.56       400\n",
            "   macro avg       0.63      0.34      0.37       400\n",
            "weighted avg       0.65      0.56      0.52       400\n",
            "\n"
          ],
          "name": "stdout"
        },
        {
          "output_type": "stream",
          "text": [
            "/usr/local/lib/python3.6/dist-packages/sklearn/metrics/classification.py:1437: UndefinedMetricWarning: Precision and F-score are ill-defined and being set to 0.0 in labels with no predicted samples.\n",
            "  'precision', 'predicted', average, warn_for)\n"
          ],
          "name": "stderr"
        }
      ]
    },
    {
      "cell_type": "markdown",
      "metadata": {
        "id": "j-GnHqFT3_aT",
        "colab_type": "text"
      },
      "source": [
        "Increasing the number of features by using more Ngrams, the accuracy goes up to 56%."
      ]
    },
    {
      "cell_type": "code",
      "metadata": {
        "id": "3K_Lzune1vAS",
        "colab_type": "code",
        "colab": {}
      },
      "source": [
        ""
      ],
      "execution_count": 0,
      "outputs": []
    }
  ]
}